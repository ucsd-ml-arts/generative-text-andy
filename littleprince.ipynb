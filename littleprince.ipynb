{
 "cells": [
  {
   "cell_type": "code",
   "execution_count": 1,
   "metadata": {
    "colab": {},
    "colab_type": "code",
    "id": "yG_n40gFzf9s"
   },
   "outputs": [],
   "source": [
    "from __future__ import absolute_import, division, print_function\n",
    "\n",
    "import tensorflow as tf\n",
    "tf.enable_eager_execution()\n",
    "\n",
    "import numpy as np\n",
    "import os\n",
    "import time\n",
    "from IPython.display import Image\n"
   ]
  },
  {
   "cell_type": "code",
   "execution_count": 2,
   "metadata": {
    "colab": {},
    "colab_type": "code",
    "id": "9NGu-FkO_kYU"
   },
   "outputs": [],
   "source": [
    "def split_input_target(chunk):\n",
    "    input_text = chunk[:-1]\n",
    "    target_text = chunk[1:]\n",
    "    return input_text, target_text\n",
    "\n"
   ]
  },
  {
   "cell_type": "code",
   "execution_count": 3,
   "metadata": {
    "colab": {},
    "colab_type": "code",
    "id": "MtCrdfzEI2N0"
   },
   "outputs": [],
   "source": [
    "def build_model(vocab_size, embedding_dim, rnn_units, batch_size):\n",
    "  model = tf.keras.Sequential([\n",
    "    tf.keras.layers.Embedding(vocab_size, embedding_dim, \n",
    "                              batch_input_shape=[batch_size, None]),\n",
    "    rnn(rnn_units,\n",
    "        return_sequences=True, \n",
    "        recurrent_initializer='glorot_uniform',\n",
    "        stateful=True),\n",
    "\n",
    "    tf.keras.layers.Dense(vocab_size)\n",
    "  ])\n",
    "  return model"
   ]
  },
  {
   "cell_type": "code",
   "execution_count": 4,
   "metadata": {
    "colab": {},
    "colab_type": "code",
    "id": "4HrXTACTdzY-"
   },
   "outputs": [],
   "source": [
    "def loss(labels, logits):\n",
    "  return tf.keras.losses.sparse_categorical_crossentropy(labels, logits, from_logits=True)\n",
    "\n",
    "\n"
   ]
  },
  {
   "cell_type": "code",
   "execution_count": 5,
   "metadata": {},
   "outputs": [],
   "source": [
    "def generate_text(model, start_string):\n",
    "  num_generate = 1000\n",
    "  input_eval = [char2idx[s] for s in start_string]\n",
    "  input_eval = tf.expand_dims(input_eval, 0)\n",
    "  text_generated = []\n",
    "  temperature = 0.5\n",
    "  model.reset_states()\n",
    "  for i in range(num_generate):\n",
    "      predictions = model(input_eval)\n",
    "      predictions = tf.squeeze(predictions, 0)\n",
    "      predictions = predictions / temperature\n",
    "      predicted_id = tf.multinomial(predictions, num_samples=1)[-1,0].numpy()\n",
    "      input_eval = tf.expand_dims([predicted_id], 0)\n",
    "      text_generated.append(idx2char[predicted_id])\n",
    "  return (start_string + ''.join(text_generated))"
   ]
  },
  {
   "cell_type": "code",
   "execution_count": 6,
   "metadata": {
    "colab": {},
    "colab_type": "code",
    "id": "71xa6jnYVrAN"
   },
   "outputs": [
    {
     "name": "stdout",
     "output_type": "stream",
     "text": [
      "Epoch 1/50\n",
      "23/23 [==============================] - 2s 105ms/step - loss: 3.4274\n",
      "Epoch 2/50\n",
      "23/23 [==============================] - 2s 66ms/step - loss: 2.8022\n",
      "Epoch 3/50\n",
      "23/23 [==============================] - 2s 66ms/step - loss: 2.4324\n",
      "Epoch 4/50\n",
      "23/23 [==============================] - 2s 67ms/step - loss: 2.1816\n",
      "Epoch 5/50\n",
      "23/23 [==============================] - 2s 67ms/step - loss: 1.9887\n",
      "Epoch 6/50\n",
      "23/23 [==============================] - 2s 67ms/step - loss: 1.8271\n",
      "Epoch 7/50\n",
      "23/23 [==============================] - 2s 65ms/step - loss: 1.6742\n",
      "Epoch 8/50\n",
      "23/23 [==============================] - 2s 65ms/step - loss: 1.5643\n",
      "Epoch 9/50\n",
      "23/23 [==============================] - 2s 67ms/step - loss: 1.4681\n",
      "Epoch 10/50\n",
      "23/23 [==============================] - 2s 68ms/step - loss: 1.3760\n",
      "Epoch 11/50\n",
      "23/23 [==============================] - 2s 67ms/step - loss: 1.3008\n",
      "Epoch 12/50\n",
      "23/23 [==============================] - 2s 66ms/step - loss: 1.2300\n",
      "Epoch 13/50\n",
      "23/23 [==============================] - 2s 68ms/step - loss: 1.1691\n",
      "Epoch 14/50\n",
      "23/23 [==============================] - 2s 65ms/step - loss: 1.1044\n",
      "Epoch 15/50\n",
      "23/23 [==============================] - 2s 65ms/step - loss: 1.0464\n",
      "Epoch 16/50\n",
      "23/23 [==============================] - 2s 66ms/step - loss: 0.9941\n",
      "Epoch 17/50\n",
      "23/23 [==============================] - 2s 66ms/step - loss: 0.9454\n",
      "Epoch 18/50\n",
      "23/23 [==============================] - 2s 67ms/step - loss: 0.8948\n",
      "Epoch 19/50\n",
      "23/23 [==============================] - 2s 67ms/step - loss: 0.8495\n",
      "Epoch 20/50\n",
      "23/23 [==============================] - 2s 67ms/step - loss: 0.8012\n",
      "Epoch 21/50\n",
      "23/23 [==============================] - 2s 66ms/step - loss: 0.7570\n",
      "Epoch 22/50\n",
      "23/23 [==============================] - 2s 68ms/step - loss: 0.7125\n",
      "Epoch 23/50\n",
      "23/23 [==============================] - 2s 66ms/step - loss: 0.6720\n",
      "Epoch 24/50\n",
      "23/23 [==============================] - 2s 66ms/step - loss: 0.6300\n",
      "Epoch 25/50\n",
      "23/23 [==============================] - 2s 65ms/step - loss: 0.5946\n",
      "Epoch 26/50\n",
      "23/23 [==============================] - 2s 67ms/step - loss: 0.5548\n",
      "Epoch 27/50\n",
      "23/23 [==============================] - 2s 68ms/step - loss: 0.5155\n",
      "Epoch 28/50\n",
      "23/23 [==============================] - 2s 67ms/step - loss: 0.4787\n",
      "Epoch 29/50\n",
      "23/23 [==============================] - 2s 66ms/step - loss: 0.4466\n",
      "Epoch 30/50\n",
      "23/23 [==============================] - 2s 66ms/step - loss: 0.4197\n",
      "Epoch 31/50\n",
      "23/23 [==============================] - 2s 65ms/step - loss: 0.3906\n",
      "Epoch 32/50\n",
      "23/23 [==============================] - 2s 67ms/step - loss: 0.3683\n",
      "Epoch 33/50\n",
      "23/23 [==============================] - 2s 67ms/step - loss: 0.3455\n",
      "Epoch 34/50\n",
      "23/23 [==============================] - 2s 67ms/step - loss: 0.3257\n",
      "Epoch 35/50\n",
      "23/23 [==============================] - 2s 68ms/step - loss: 0.3087\n",
      "Epoch 36/50\n",
      "23/23 [==============================] - 2s 67ms/step - loss: 0.2903\n",
      "Epoch 37/50\n",
      "23/23 [==============================] - 2s 66ms/step - loss: 0.2809\n",
      "Epoch 38/50\n",
      "23/23 [==============================] - 1s 65ms/step - loss: 0.2680\n",
      "Epoch 39/50\n",
      "23/23 [==============================] - 2s 66ms/step - loss: 0.2595\n",
      "Epoch 40/50\n",
      "23/23 [==============================] - 2s 67ms/step - loss: 0.2516\n",
      "Epoch 41/50\n",
      "23/23 [==============================] - 2s 68ms/step - loss: 0.2444\n",
      "Epoch 42/50\n",
      "23/23 [==============================] - 2s 66ms/step - loss: 0.2398\n",
      "Epoch 43/50\n",
      "23/23 [==============================] - 2s 66ms/step - loss: 0.2314\n",
      "Epoch 44/50\n",
      "23/23 [==============================] - 2s 66ms/step - loss: 0.2266\n",
      "Epoch 45/50\n",
      "23/23 [==============================] - 2s 67ms/step - loss: 0.2186\n",
      "Epoch 46/50\n",
      "23/23 [==============================] - 2s 67ms/step - loss: 0.2148\n",
      "Epoch 47/50\n",
      "23/23 [==============================] - 2s 67ms/step - loss: 0.2102\n",
      "Epoch 48/50\n",
      "23/23 [==============================] - 2s 67ms/step - loss: 0.2070\n",
      "Epoch 49/50\n",
      "23/23 [==============================] - 2s 65ms/step - loss: 0.2027\n",
      "Epoch 50/50\n",
      "23/23 [==============================] - 2s 65ms/step - loss: 0.2013\n"
     ]
    }
   ],
   "source": [
    "\n",
    "path_to_file = tf.keras.utils.get_file('littleprince_djvu.txt', 'https://archive.org/stream/TheLittlePrince-English/littleprince_djvu.txt')\n",
    "\n",
    "text = open(path_to_file, 'rb').read().decode(encoding = \"ISO-8859-1\")\n",
    "vocab = sorted(set(text))\n",
    "char2idx = {u:i for i, u in enumerate(vocab)}\n",
    "idx2char = np.array(vocab)\n",
    "text_as_int = np.array([char2idx[c] for c in text])\n",
    "seq_length = 100\n",
    "examples_per_epoch = len(text)//seq_length\n",
    "char_dataset = tf.data.Dataset.from_tensor_slices(text_as_int)\n",
    "sequences = char_dataset.batch(seq_length+1, drop_remainder=True)\n",
    "dataset = sequences.map(split_input_target)\n",
    "BATCH_SIZE = 64\n",
    "steps_per_epoch = examples_per_epoch//BATCH_SIZE\n",
    "BUFFER_SIZE = 10000\n",
    "dataset = dataset.shuffle(BUFFER_SIZE).batch(BATCH_SIZE, drop_remainder=True)\n",
    "vocab_size = len(vocab)\n",
    "embedding_dim = 300\n",
    "rnn_units = 1024\n",
    "if tf.test.is_gpu_available():\n",
    "  rnn = tf.keras.layers.CuDNNGRU\n",
    "  rnn2 = tf.keras.layers.CuDNNGRU\n",
    "else:\n",
    "  import functools\n",
    "  rnn = functools.partial(\n",
    "    tf.keras.layers.GRU, recurrent_activation='sigmoid')\n",
    "model = build_model(\n",
    "  vocab_size = len(vocab), \n",
    "  embedding_dim=embedding_dim, \n",
    "  rnn_units=rnn_units, \n",
    "  batch_size=BATCH_SIZE)\n",
    "for input_example_batch, target_example_batch in dataset.take(1): \n",
    "  example_batch_predictions = model(input_example_batch)\n",
    "sampled_indices = tf.random.categorical(example_batch_predictions[0], num_samples=1)\n",
    "sampled_indices = tf.squeeze(sampled_indices,axis=-1).numpy()\n",
    "example_batch_loss  = loss(target_example_batch, example_batch_predictions)\n",
    "model.compile(\n",
    "    optimizer = tf.train.AdamOptimizer(),\n",
    "    loss = loss)\n",
    "checkpoint_dir = './training'\n",
    "\n",
    "checkpoint_prefix = os.path.join(checkpoint_dir, \"ckpt_{epoch}\")\n",
    "\n",
    "checkpoint_callback=tf.keras.callbacks.ModelCheckpoint(\n",
    "    filepath=checkpoint_prefix,\n",
    "    save_weights_only=True)\n",
    "EPOCHS=50\n",
    "history = model.fit(dataset.repeat(), epochs=EPOCHS, steps_per_epoch=steps_per_epoch, callbacks=[checkpoint_callback])\n",
    "tf.train.latest_checkpoint(checkpoint_dir)\n",
    "model = build_model(vocab_size, embedding_dim, rnn_units, batch_size=1)\n",
    "model.load_weights(tf.train.latest_checkpoint(checkpoint_dir))\n",
    "model.build(tf.TensorShape([1, None]))"
   ]
  },
  {
   "cell_type": "code",
   "execution_count": 7,
   "metadata": {
    "colab": {},
    "colab_type": "code",
    "id": "ktovv0RFhrkn",
    "scrolled": true
   },
   "outputs": [
    {
     "name": "stderr",
     "output_type": "stream",
     "text": [
      "WARNING: Logging before flag parsing goes to stderr.\n",
      "W1020 20:20:33.178035 140297596929856 deprecation.py:323] From <ipython-input-5-5b162739346a>:12: multinomial (from tensorflow.python.ops.random_ops) is deprecated and will be removed in a future version.\n",
      "Instructions for updating:\n",
      "Use `tf.random.categorical` instead.\n"
     ]
    },
    {
     "name": "stdout",
     "output_type": "stream",
     "text": [
      "he say to myself: âAt some moment or other one is absent-minded, and that is \n",
      "enough! On some one little stratagems. Flowers are so inconsistent! But I was too young to know how to take pleasure in all her grace. \n",
      "\n",
      "âI am unlucky,â said the lamplighter. âGood morning.â And he put out his lamp. \n",
      "\n",
      "Then he mopped his forehead with a handkerchief decorated with the desire to awaken. Then this little seed will stretch \n",
      "itself and begin, timidly at first, or a plant,â remarked the little prince, and added to himself, \n",
      "âThis flower is that of the boa constrictor from the outside and the boa constrictor from the outside and the boa constrictor from the inside, since I was a little boy who ims âAnd when your sorrow is comforted (time soothes all sorrows) you will be \n",
      "thires are to find them. The wind blows them away. Now how my ram. I felt hear him an according to \n",
      "think of my needsâ And the little prince, completely abashed. \n",
      "\n",
      "âHum! Hum!â replied the king. âThen I... I order y\n"
     ]
    }
   ],
   "source": [
    "print(generate_text(model, start_string=u\"he say\"))\n"
   ]
  },
  {
   "cell_type": "code",
   "execution_count": null,
   "metadata": {},
   "outputs": [],
   "source": []
  }
 ],
 "metadata": {
  "accelerator": "GPU",
  "colab": {
   "collapsed_sections": [],
   "name": "text_generation.ipynb",
   "private_outputs": true,
   "provenance": [],
   "toc_visible": true,
   "version": "0.3.2"
  },
  "kernelspec": {
   "display_name": "Python 3",
   "language": "python",
   "name": "python3"
  },
  "language_info": {
   "codemirror_mode": {
    "name": "ipython",
    "version": 3
   },
   "file_extension": ".py",
   "mimetype": "text/x-python",
   "name": "python",
   "nbconvert_exporter": "python",
   "pygments_lexer": "ipython3",
   "version": "3.7.3"
  }
 },
 "nbformat": 4,
 "nbformat_minor": 4
}
