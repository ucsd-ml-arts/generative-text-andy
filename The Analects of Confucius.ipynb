{
 "cells": [
  {
   "cell_type": "code",
   "execution_count": 1,
   "metadata": {
    "colab": {},
    "colab_type": "code",
    "id": "yG_n40gFzf9s"
   },
   "outputs": [],
   "source": [
    "from __future__ import absolute_import, division, print_function\n",
    "\n",
    "import tensorflow as tf\n",
    "tf.enable_eager_execution()\n",
    "\n",
    "import numpy as np\n",
    "import os\n",
    "import time\n",
    "from IPython.display import Image\n"
   ]
  },
  {
   "cell_type": "code",
   "execution_count": 2,
   "metadata": {
    "colab": {},
    "colab_type": "code",
    "id": "9NGu-FkO_kYU"
   },
   "outputs": [],
   "source": [
    "def split_input_target(chunk):\n",
    "    input_text = chunk[:-1]\n",
    "    target_text = chunk[1:]\n",
    "    return input_text, target_text\n",
    "\n"
   ]
  },
  {
   "cell_type": "code",
   "execution_count": 3,
   "metadata": {
    "colab": {},
    "colab_type": "code",
    "id": "MtCrdfzEI2N0"
   },
   "outputs": [],
   "source": [
    "def build_model(vocab_size, embedding_dim, rnn_units, batch_size):\n",
    "  model = tf.keras.Sequential([\n",
    "    tf.keras.layers.Embedding(vocab_size, embedding_dim, \n",
    "                              batch_input_shape=[batch_size, None]),\n",
    "    rnn(rnn_units,\n",
    "        return_sequences=True, \n",
    "        recurrent_initializer='glorot_uniform',\n",
    "        stateful=True),\n",
    "\n",
    "    tf.keras.layers.Dense(vocab_size)\n",
    "  ])\n",
    "  return model"
   ]
  },
  {
   "cell_type": "code",
   "execution_count": 4,
   "metadata": {
    "colab": {},
    "colab_type": "code",
    "id": "4HrXTACTdzY-"
   },
   "outputs": [],
   "source": [
    "def loss(labels, logits):\n",
    "  return tf.keras.losses.sparse_categorical_crossentropy(labels, logits, from_logits=True)\n",
    "\n",
    "\n"
   ]
  },
  {
   "cell_type": "code",
   "execution_count": 1,
   "metadata": {},
   "outputs": [],
   "source": [
    "def generate_text(model, start_string):\n",
    "  num_generate = 1000\n",
    "  input_eval = [char2idx[s] for s in start_string]\n",
    "  input_eval = tf.expand_dims(input_eval, 0)\n",
    "  text_generated = []\n",
    "  temperature = 0.5\n",
    "  model.reset_states()\n",
    "  for i in range(num_generate):\n",
    "      predictions = model(input_eval)\n",
    "      predictions = tf.squeeze(predictions, 0)\n",
    "      predictions = predictions / temperature\n",
    "      predicted_id = tf.multinomial(predictions, num_samples=1)[-1,0].numpy()\n",
    "      input_eval = tf.expand_dims([predicted_id], 0)\n",
    "      text_generated.append(idx2char[predicted_id])\n",
    "  return (start_string + ''.join(text_generated))"
   ]
  },
  {
   "cell_type": "code",
   "execution_count": 5,
   "metadata": {
    "colab": {},
    "colab_type": "code",
    "id": "71xa6jnYVrAN"
   },
   "outputs": [
    {
     "name": "stdout",
     "output_type": "stream",
     "text": [
      "Epoch 1/50\n",
      "29/29 [==============================] - 3s 91ms/step - loss: 3.9547\n",
      "Epoch 2/50\n",
      "29/29 [==============================] - 2s 52ms/step - loss: 2.7894\n",
      "Epoch 3/50\n",
      "29/29 [==============================] - 2s 53ms/step - loss: 2.3860\n",
      "Epoch 4/50\n",
      "29/29 [==============================] - 1s 52ms/step - loss: 2.1744\n",
      "Epoch 5/50\n",
      "29/29 [==============================] - 1s 51ms/step - loss: 2.0348\n",
      "Epoch 6/50\n",
      "29/29 [==============================] - 2s 52ms/step - loss: 1.9102\n",
      "Epoch 7/50\n",
      "29/29 [==============================] - 1s 51ms/step - loss: 1.8145\n",
      "Epoch 8/50\n",
      "29/29 [==============================] - 1s 51ms/step - loss: 1.7157\n",
      "Epoch 9/50\n",
      "29/29 [==============================] - 2s 53ms/step - loss: 1.6289\n",
      "Epoch 10/50\n",
      "29/29 [==============================] - 2s 53ms/step - loss: 1.5703\n",
      "Epoch 11/50\n",
      "29/29 [==============================] - 2s 53ms/step - loss: 1.4881\n",
      "Epoch 12/50\n",
      "29/29 [==============================] - 2s 52ms/step - loss: 1.4354\n",
      "Epoch 13/50\n",
      "29/29 [==============================] - 1s 51ms/step - loss: 1.3724\n",
      "Epoch 14/50\n",
      "29/29 [==============================] - 2s 52ms/step - loss: 1.3115\n",
      "Epoch 15/50\n",
      "29/29 [==============================] - 2s 52ms/step - loss: 1.2736\n",
      "Epoch 16/50\n",
      "29/29 [==============================] - 2s 52ms/step - loss: 1.2154\n",
      "Epoch 17/50\n",
      "29/29 [==============================] - 2s 52ms/step - loss: 1.1675\n",
      "Epoch 18/50\n",
      "29/29 [==============================] - 2s 52ms/step - loss: 1.1266\n",
      "Epoch 19/50\n",
      "29/29 [==============================] - 2s 52ms/step - loss: 1.0836\n",
      "Epoch 20/50\n",
      "29/29 [==============================] - 1s 51ms/step - loss: 1.0410\n",
      "Epoch 21/50\n",
      "29/29 [==============================] - 2s 53ms/step - loss: 0.9974\n",
      "Epoch 22/50\n",
      "29/29 [==============================] - 2s 52ms/step - loss: 0.9600\n",
      "Epoch 23/50\n",
      "29/29 [==============================] - 2s 52ms/step - loss: 0.9188\n",
      "Epoch 24/50\n",
      "29/29 [==============================] - 1s 51ms/step - loss: 0.8816\n",
      "Epoch 25/50\n",
      "29/29 [==============================] - 1s 51ms/step - loss: 0.8396\n",
      "Epoch 26/50\n",
      "29/29 [==============================] - 2s 53ms/step - loss: 0.7991\n",
      "Epoch 27/50\n",
      "29/29 [==============================] - 2s 52ms/step - loss: 0.7567\n",
      "Epoch 28/50\n",
      "29/29 [==============================] - 2s 52ms/step - loss: 0.7188\n",
      "Epoch 29/50\n",
      "29/29 [==============================] - 2s 62ms/step - loss: 0.6769\n",
      "Epoch 30/50\n",
      "29/29 [==============================] - 2s 52ms/step - loss: 0.6373\n",
      "Epoch 31/50\n",
      "29/29 [==============================] - 2s 52ms/step - loss: 0.5936\n",
      "Epoch 32/50\n",
      "29/29 [==============================] - 2s 53ms/step - loss: 0.5603\n",
      "Epoch 33/50\n",
      "29/29 [==============================] - 2s 52ms/step - loss: 0.5255\n",
      "Epoch 34/50\n",
      "29/29 [==============================] - 1s 52ms/step - loss: 0.4904\n",
      "Epoch 35/50\n",
      "29/29 [==============================] - 2s 53ms/step - loss: 0.4597\n",
      "Epoch 36/50\n",
      "29/29 [==============================] - 2s 53ms/step - loss: 0.4323\n",
      "Epoch 37/50\n",
      "29/29 [==============================] - 2s 52ms/step - loss: 0.4089\n",
      "Epoch 38/50\n",
      "29/29 [==============================] - 2s 53ms/step - loss: 0.3839\n",
      "Epoch 39/50\n",
      "29/29 [==============================] - 1s 52ms/step - loss: 0.3643\n",
      "Epoch 40/50\n",
      "29/29 [==============================] - 2s 52ms/step - loss: 0.3441\n",
      "Epoch 41/50\n",
      "29/29 [==============================] - 2s 52ms/step - loss: 0.3315\n",
      "Epoch 42/50\n",
      "29/29 [==============================] - 2s 52ms/step - loss: 0.3173\n",
      "Epoch 43/50\n",
      "29/29 [==============================] - 2s 52ms/step - loss: 0.3027\n",
      "Epoch 44/50\n",
      "29/29 [==============================] - 2s 53ms/step - loss: 0.2912\n",
      "Epoch 45/50\n",
      "29/29 [==============================] - 2s 53ms/step - loss: 0.2811\n",
      "Epoch 46/50\n",
      "29/29 [==============================] - 2s 52ms/step - loss: 0.2705\n",
      "Epoch 47/50\n",
      "29/29 [==============================] - 2s 52ms/step - loss: 0.2648\n",
      "Epoch 48/50\n",
      "29/29 [==============================] - 2s 54ms/step - loss: 0.2595\n",
      "Epoch 49/50\n",
      "29/29 [==============================] - 2s 53ms/step - loss: 0.2495\n",
      "Epoch 50/50\n",
      "29/29 [==============================] - 2s 52ms/step - loss: 0.2429\n"
     ]
    }
   ],
   "source": [
    "path_to_file = tf.keras.utils.get_file('pg3330.txt', 'http://www.gutenberg.org/cache/epub/3330/pg3330.txt')#The Analects of Confucius (from the Chinese Classics) by Confucius\n",
    "\n",
    "#path_to_file = tf.keras.utils.get_file('littleprince_djvu.txt', 'https://archive.org/stream/TheLittlePrince-English/littleprince_djvu.txt')\n",
    "\n",
    "text = open(path_to_file, 'rb').read().decode(encoding = \"ISO-8859-1\")\n",
    "vocab = sorted(set(text))\n",
    "char2idx = {u:i for i, u in enumerate(vocab)}\n",
    "idx2char = np.array(vocab)\n",
    "text_as_int = np.array([char2idx[c] for c in text])\n",
    "seq_length = 100\n",
    "examples_per_epoch = len(text)//seq_length\n",
    "char_dataset = tf.data.Dataset.from_tensor_slices(text_as_int)\n",
    "sequences = char_dataset.batch(seq_length+1, drop_remainder=True)\n",
    "dataset = sequences.map(split_input_target)\n",
    "BATCH_SIZE = 64\n",
    "steps_per_epoch = examples_per_epoch//BATCH_SIZE\n",
    "BUFFER_SIZE = 10000\n",
    "dataset = dataset.shuffle(BUFFER_SIZE).batch(BATCH_SIZE, drop_remainder=True)\n",
    "vocab_size = len(vocab)\n",
    "embedding_dim = 300\n",
    "rnn_units = 1024\n",
    "if tf.test.is_gpu_available():\n",
    "  rnn = tf.keras.layers.CuDNNGRU\n",
    "  rnn2 = tf.keras.layers.CuDNNGRU\n",
    "else:\n",
    "  import functools\n",
    "  rnn = functools.partial(\n",
    "    tf.keras.layers.GRU, recurrent_activation='sigmoid')\n",
    "model = build_model(\n",
    "  vocab_size = len(vocab), \n",
    "  embedding_dim=embedding_dim, \n",
    "  rnn_units=rnn_units, \n",
    "  batch_size=BATCH_SIZE)\n",
    "for input_example_batch, target_example_batch in dataset.take(1): \n",
    "  example_batch_predictions = model(input_example_batch)\n",
    "sampled_indices = tf.random.categorical(example_batch_predictions[0], num_samples=1)\n",
    "sampled_indices = tf.squeeze(sampled_indices,axis=-1).numpy()\n",
    "example_batch_loss  = loss(target_example_batch, example_batch_predictions)\n",
    "model.compile(\n",
    "    optimizer = tf.train.AdamOptimizer(),\n",
    "    loss = loss)\n",
    "checkpoint_dir = './training'\n",
    "\n",
    "checkpoint_prefix = os.path.join(checkpoint_dir, \"ckpt_{epoch}\")\n",
    "\n",
    "checkpoint_callback=tf.keras.callbacks.ModelCheckpoint(\n",
    "    filepath=checkpoint_prefix,\n",
    "    save_weights_only=True)\n",
    "EPOCHS=50\n",
    "history = model.fit(dataset.repeat(), epochs=EPOCHS, steps_per_epoch=steps_per_epoch, callbacks=[checkpoint_callback])\n",
    "tf.train.latest_checkpoint(checkpoint_dir)\n",
    "model = build_model(vocab_size, embedding_dim, rnn_units, batch_size=1)\n",
    "model.load_weights(tf.train.latest_checkpoint(checkpoint_dir))\n",
    "model.build(tf.TensorShape([1, None]))"
   ]
  },
  {
   "cell_type": "code",
   "execution_count": 7,
   "metadata": {
    "colab": {},
    "colab_type": "code",
    "id": "ktovv0RFhrkn",
    "scrolled": true
   },
   "outputs": [
    {
     "name": "stderr",
     "output_type": "stream",
     "text": [
      "WARNING: Logging before flag parsing goes to stderr.\n",
      "W1020 18:23:01.109690 140621508425536 deprecation.py:323] From <ipython-input-6-875ea19f157b>:28: multinomial (from tensorflow.python.ops.random_ops) is deprecated and will be removed in a future version.\n",
      "Instructions for updating:\n",
      "Use `tf.random.categorical` instead.\n"
     ]
    },
    {
     "name": "stdout",
     "output_type": "stream",
     "text": [
      "he saying which I\r\n",
      "have heard on the way, is to cast away our visitors and guests, but I do not know whether\r\n",
      "he is perfectly virtuous.'\r\n",
      "\r\n",
      "        CHAP. VII. 1. The philosopher Yu said, 'They are few who, being\r\n",
      "filial and fraternal.' The Master said, 'The man of perfect virtue is cautious and\r\n",
      "slow in his speech!' said Niu;-- 'is this what is\r\n",
      "meant by perfect virtue. The Master\r\n",
      "said, 'The requisites of government as they were the same with us.'\r\n",
      "        CHAP. XXII. The Master said, 'The superior man is affable,\r\n",
      "but not adulatory; the mean man is adulatory, but not affairs from words.\r\n",
      "        4. 'Now, in regard to Ch'i.\r\n",
      "        2. Tsze-kung said, 'If you, Master, do not speak, what shall\r\n",
      "we, your disciples, he said, 'Ha! here is a collection!' When they\r\n",
      "were a little increased de the remark and said, 'The superior man has nine things\r\n",
      "which are subjects with him of thoughtful contented repose, there will be no\r\n",
      "rebellious upsettings.\r\n",
      "        4. 'They teach the appointments of Heaven\n"
     ]
    }
   ],
   "source": [
    "print(generate_text(model, start_string=u\"he say\"))\n"
   ]
  }
 ],
 "metadata": {
  "accelerator": "GPU",
  "colab": {
   "collapsed_sections": [],
   "name": "text_generation.ipynb",
   "private_outputs": true,
   "provenance": [],
   "toc_visible": true,
   "version": "0.3.2"
  },
  "kernelspec": {
   "display_name": "Python 3",
   "language": "python",
   "name": "python3"
  },
  "language_info": {
   "codemirror_mode": {
    "name": "ipython",
    "version": 3
   },
   "file_extension": ".py",
   "mimetype": "text/x-python",
   "name": "python",
   "nbconvert_exporter": "python",
   "pygments_lexer": "ipython3",
   "version": "3.7.3"
  }
 },
 "nbformat": 4,
 "nbformat_minor": 4
}
